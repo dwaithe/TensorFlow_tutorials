{
 "cells": [
  {
   "cell_type": "markdown",
   "metadata": {},
   "source": [
    "# Variables with tensorflow\n",
    "Jupyter notebook work-flow showing the properties of variables in tensorflow"
   ]
  },
  {
   "cell_type": "code",
   "execution_count": 234,
   "metadata": {},
   "outputs": [
    {
     "name": "stdout",
     "output_type": "stream",
     "text": [
      "Populating the interactive namespace from numpy and matplotlib\n"
     ]
    }
   ],
   "source": [
    "#interactive functionality of jupyter\n",
    "%pylab inline \n",
    "import tensorflow as tf \n"
   ]
  },
  {
   "cell_type": "markdown",
   "metadata": {},
   "source": [
    "#### Variables are used to define static constants for your graph to access.\n",
    "tf.Variable and tf.get_variable is the accepted way to do this."
   ]
  },
  {
   "cell_type": "code",
   "execution_count": 199,
   "metadata": {},
   "outputs": [
    {
     "name": "stdout",
     "output_type": "stream",
     "text": [
      "<tf.Variable 'a:0' shape=(3,) dtype=float32_ref>\n",
      "<tf.Variable 'b:0' shape=() dtype=float32_ref>\n",
      "<tf.Variable 'c:0' shape=(3, 3) dtype=float64_ref> note the dtype\n",
      "<tf.Variable 'd:0' shape=() dtype=float32_ref>\n",
      "<tf.Variable 'e:0' shape=(3, 3) dtype=float32_ref>\n",
      "<tf.Variable 'f:0' shape=(3, 3) dtype=float64_ref>\n",
      "python_pointer_a [ 0.5  0.1  0.2]\n",
      "python_pointer_b 0.5\n",
      "python_pointer_c [[ 1.  1.  1.]\n",
      " [ 1.  1.  1.]\n",
      " [ 1.  1.  1.]]\n",
      "python_pointer_d 0.5\n",
      "python_pointer_e [[ 1.  1.  1.]\n",
      " [ 1.  1.  1.]\n",
      " [ 1.  1.  1.]]\n",
      "python_pointer_f [[ 1.  1.  1.]\n",
      " [ 1.  1.  1.]\n",
      " [ 1.  1.  1.]]\n"
     ]
    }
   ],
   "source": [
    "tf.reset_default_graph() #If running multiple times will clear all variables.\n",
    "\n",
    "#A Session object encapsulates the environment in which Operation objects are executed, \n",
    "#and Tensor objects are evaluated\n",
    "sess = tf.InteractiveSession() \n",
    "\n",
    "python_pointer_a = tf.Variable([0.5,0.1,0.2],name=\"a\") #an array.\n",
    "python_pointer_b = tf.Variable(0.5,name=\"b\") #a single constant float32\n",
    "values = np.ones((3,3))\n",
    "python_pointer_c = tf.Variable(values,name=\"c\") #by default will be float64 as defined by numpy array.\n",
    "\n",
    "#More recently get_variable is being used which allows some additional behaviours.\n",
    "python_pointer_d = tf.get_variable(\"d\",initializer=0.5) #a single constant float32 like in b.\n",
    "#The following defines the name of the tensor within tensorflow \"e\" the size [3,3].\n",
    "values = np.ones((3,3))\n",
    "python_pointer_e = tf.get_variable(\"e\",[3,3],initializer = tf.constant_initializer(values)) #here the second argument is shape. \n",
    "#You can just insert values directly also. No need to specify shape in this case.\n",
    "python_pointer_f = tf.get_variable(\"f\",initializer=np.ones((3,3))) \n",
    "\n",
    "\n",
    "print(python_pointer_a)\n",
    "print(python_pointer_b)\n",
    "print(python_pointer_c,\"note the dtype\")#note the dtype.\n",
    "print(python_pointer_d)\n",
    "print(python_pointer_e)\n",
    "print(python_pointer_f)\n",
    "\n",
    "\n",
    "sess.run(tf.global_variables_initializer())\n",
    "print('python_pointer_a',sess.run(python_pointer_a))\n",
    "print('python_pointer_b',sess.run(python_pointer_b))\n",
    "print('python_pointer_c',sess.run(python_pointer_c))\n",
    "print('python_pointer_d',sess.run(python_pointer_d))\n",
    "print('python_pointer_e',sess.run(python_pointer_e))\n",
    "print('python_pointer_f',sess.run(python_pointer_f))\n",
    "sess.close()"
   ]
  },
  {
   "cell_type": "code",
   "execution_count": 200,
   "metadata": {},
   "outputs": [],
   "source": [
    "##Two ways to reference your tensors to define the edges.\n",
    "##by python pointers. Prefered.\n",
    "out_a = tf.multiply(python_pointer_a,python_pointer_b)\n",
    "##by tensorflow name, bit of a mouth full. But good for inspecting the network structure.\n",
    "out_b = tf.multiply(tf.get_default_graph().get_tensor_by_name(\"a:0\"),tf.get_default_graph().get_tensor_by_name(\"b:0\"))"
   ]
  },
  {
   "cell_type": "code",
   "execution_count": 201,
   "metadata": {},
   "outputs": [
    {
     "name": "stdout",
     "output_type": "stream",
     "text": [
      "[ 0.25  0.05  0.1 ] out_a\n",
      "[ 0.25  0.05  0.1 ] out_b\n"
     ]
    }
   ],
   "source": [
    "sess = tf.InteractiveSession()\n",
    "sess.run(tf.global_variables_initializer())# initializes global variables in the graph.\n",
    "print(sess.run(out_a), \"out_a\")\n",
    "print(sess.run(out_b), \"out_b\")\n",
    "sess.close()\n"
   ]
  },
  {
   "cell_type": "markdown",
   "metadata": {},
   "source": [
    "## Tensor names\n",
    "\n",
    "the name of a Tensor is the concatenation of the name of the operation that produced it, a colon (:), and the index of that tensor in the outputs of the operation that produced it. \n",
    "You can also give Tensors your own names.\n",
    "\n",
    "Variables also have potentially a scope e.g. \"one/v:0\""
   ]
  },
  {
   "cell_type": "markdown",
   "metadata": {},
   "source": [
    "### Important difference between tf.Variable and tf.get_variable\n",
    "tf.variable will always create a new variable and if a duplicate name is in scope it will create a new name."
   ]
  },
  {
   "cell_type": "code",
   "execution_count": 236,
   "metadata": {},
   "outputs": [
    {
     "name": "stdout",
     "output_type": "stream",
     "text": [
      "<tf.Variable 'v:0' shape=() dtype=float32_ref>\n",
      "<tf.Variable 'v_1:0' shape=() dtype=float32_ref> notice the name isn't repeated it has been appended to make it safe.\n",
      "<tf.Variable 'Variable:0' shape=() dtype=float32_ref> comes up with its own name\n",
      "a 0.2\n",
      "b 1.2\n",
      "c 2.4\n",
      "Doesn't work with get_variable #ValueError: Variable one/v already exists\n"
     ]
    }
   ],
   "source": [
    "tf.reset_default_graph()#Clears all variables.\n",
    "\n",
    "sess = tf.InteractiveSession()#Start a new session.\n",
    "\n",
    "try:\n",
    "    a = tf.Variable(0.2,name=\"v\")\n",
    "    b = tf.Variable(1.2,name=\"v\")\n",
    "    c = tf.Variable(2.4,)\n",
    "except:\n",
    "    \n",
    "    pass\n",
    "\n",
    "\n",
    "print(a)\n",
    "print(b,\"notice the name isn't repeated it has been appended to make it safe.\")\n",
    "print(c,\"comes up with its own name\")\n",
    "\n",
    "sess.run(tf.global_variables_initializer())\n",
    "\n",
    "print('a',sess.run(a))\n",
    "print('b',sess.run(b))\n",
    "print('c',sess.run(c))\n",
    "\n",
    "try:\n",
    "    d = tf.get_variable(\"v\", [0.2]) #a.name == \"one/v:0\"\n",
    "    e = tf.get_variable(\"v\", [1.1]) #ValueError: Variable one/v already exists\n",
    "except:\n",
    "    print(\"Doesn't work with get_variable #ValueError: Variable one/v already exists\")\n",
    "\n",
    "sess.close()"
   ]
  },
  {
   "cell_type": "markdown",
   "metadata": {},
   "source": [
    "### Example of some operations on 2-D arrays"
   ]
  },
  {
   "cell_type": "code",
   "execution_count": 237,
   "metadata": {},
   "outputs": [
    {
     "data": {
      "image/png": "[encoded data removed]",
      "text/plain": [
       "<matplotlib.figure.Figure at 0x118d6fa20>"
      ]
     },
     "metadata": {},
     "output_type": "display_data"
    }
   ],
   "source": [
    "## Just a little fun example for an input matrix. \n",
    "## Taken from http://www.uff.br/cdme/matrix/matrix-html/matrix_boolean/matrix_boolean_en.html\n",
    "\n",
    "def text_file_to_import(file_path):\n",
    "    input_arr = []\n",
    "    f = open(file_path,'r')\n",
    "    lines = f.readlines()\n",
    "    for line in lines:\n",
    "        input_arr.extend(line.split('\\n')[0].split('\\t'))\n",
    "    return np.array(input_arr).reshape(35,35).astype(np.int32)\n",
    "face_only = text_file_to_import('felix images/felix_face.txt') \n",
    "smile_only = text_file_to_import('felix images/felix_smile.txt')\n",
    "\n",
    "\n",
    "tf.reset_default_graph()#Clears all variables.\n",
    "sess = tf.InteractiveSession()#Start a new session.\n",
    "\n",
    "\n",
    "fc = tf.get_variable('face_only',face_only.shape,initializer=tf.constant_initializer(face_only),dtype=float32)\n",
    "so = tf.get_variable('smile_only',smile_only.shape,initializer=tf.constant_initializer(smile_only),dtype=float32)\n",
    "rn = tf.get_variable('random',face_only.shape)\n",
    "sess.run(tf.global_variables_initializer())# initializes global variables in the graph.\n",
    "out = tf.bitwise.bitwise_and(face_only,smile_only)\n",
    "toFloat = tf.to_float(out,name='ToFloat')#Needed to convert the tf bitwise_and.\n",
    "\n",
    "\n",
    "figure(figsize(16,4))\n",
    "subplot(1,5,1)\n",
    "imshow(sess.run(fc),cmap='Dark2')\n",
    "subplot(1,5,2)\n",
    "imshow(sess.run(so),cmap='Dark2')\n",
    "subplot(1,5,3)\n",
    "imshow(sess.run(out),cmap='Dark2')\n",
    "subplot(1,5,4)\n",
    "out = tf.divide(toFloat,so)\n",
    "imshow(sess.run(out),cmap='Dark2')\n",
    "subplot(1,5,5)\n",
    "out = tf.multiply(rn,out)\n",
    "\n",
    "imshow(sess.run(out))\n",
    "\n",
    "sess.close()"
   ]
  },
  {
   "cell_type": "code",
   "execution_count": null,
   "metadata": {},
   "outputs": [],
   "source": []
  },
  {
   "cell_type": "code",
   "execution_count": null,
   "metadata": {},
   "outputs": [],
   "source": []
  }
 ],
 "metadata": {
  "kernelspec": {
   "display_name": "Python 3",
   "language": "python",
   "name": "python3"
  },
  "language_info": {
   "codemirror_mode": {
    "name": "ipython",
    "version": 3
   },
   "file_extension": ".py",
   "mimetype": "text/x-python",
   "name": "python",
   "nbconvert_exporter": "python",
   "pygments_lexer": "ipython3",
   "version": "3.5.3"
  }
 },
 "nbformat": 4,
 "nbformat_minor": 2
}
